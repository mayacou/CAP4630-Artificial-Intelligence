{
  "cells": [
    {
      "cell_type": "markdown",
      "metadata": {
        "id": "pqf8QC1mboba"
      },
      "source": [
        "# Logistic Regression Homework\n",
        "\n",
        "This is the 2nd assignment for CAP 4630 and we will implement logistic regression and apply it to two\n",
        "different datasets. \\\n",
        "You will use **\"Tasks\"** and **\"Hints\"** to finish the work. **(Total 72 Points)** \\\n",
        "You are **not** allowed to use Machine Learning libaries such as Scikit-learn and Keras.\n",
        "\n",
        "**Task Overview:**\n",
        "- Logistic Regression"
      ]
    },
    {
      "cell_type": "markdown",
      "metadata": {
        "id": "nA9NCiG0bobc"
      },
      "source": [
        "## 1 - Logistic Regression ##\n",
        "### 1.1 Packages\n",
        "\n",
        "Import useful packages for scientific computing and data processing.\n",
        "\n",
        "**Tasks:**\n",
        "1. Import numpy and rename it to np.\n",
        "2. Import pandas and rename it to pd.\n",
        "3. Import the pyplot function in the libraray of matplotlib and rename it to plt.\n",
        "\n",
        "References:\n",
        "- [numpy](www.numpy.org) is the fundamental package for scientific computing with Python.\n",
        "- [matplotlib](http://matplotlib.org) is a famous library to plot graphs in Python.\n",
        "\n",
        "**Attention:**\n",
        "1. After this renaming, you will use the new name to call functions. For example, **numpy** will become **np** in the following sections."
      ]
    },
    {
      "cell_type": "code",
      "execution_count": 31,
      "metadata": {
        "id": "d4m4ElBlbobd"
      },
      "outputs": [],
      "source": [
        "# Import and rename libraries here\n",
        "import numpy as np\n",
        "import pandas as pd\n",
        "import matplotlib.pyplot as plt\n"
      ]
    },
    {
      "cell_type": "markdown",
      "metadata": {
        "collapsed": true,
        "id": "_uyE155Hbobe"
      },
      "source": [
        "### 1.2 - Data Preparation ##\n",
        "\n",
        "Prepare the data for regression task. **(15 Points)**\n",
        "\n",
        "**Tasks:**\n",
        "1. Load data for logistic regression.\n",
        "2. **Generate the SCATTER PLOT of the data**.\n",
        "\n",
        "**Hints:**\n",
        "1. The data file is \"data_logistic.csv\", which are exam scores for students.\n",
        "2. The data is organized by column: x1 (exam 1 score), x2 (exam 2 score), and label y (pass 1 or fail 0).\n",
        "3. Please use different colors for postive(label=1) and negative(label=0) data.\n",
        "4. An example of scatter plots is shown below.\n",
        "\n",
        "![](https://drive.google.com/uc?export=view&id=1CPv5s4W8SkUMa_sXCIz-NejSnFj-e1IH)"
      ]
    },
    {
      "cell_type": "code",
      "execution_count": 32,
      "metadata": {
        "id": "hHB94up4bobe",
        "colab": {
          "base_uri": "https://localhost:8080/",
          "height": 449
        },
        "outputId": "7aa05d76-3ab9-4abd-f99d-1e27c35177d2"
      },
      "outputs": [
        {
          "output_type": "display_data",
          "data": {
            "text/plain": [
              "<Figure size 640x480 with 1 Axes>"
            ],
            "image/png": "[encoded data removed]"
          },
          "metadata": {}
        }
      ],
      "source": [
        "# Preprocess input data and generate plots\n",
        "# load data\n",
        "data = pd.read_csv(\"/data_logistic.csv\")\n",
        "x1 = data['x1']\n",
        "x2 = data['x2']\n",
        "y = data['label']\n",
        "\n",
        "# create scatter plot\n",
        "positive = data[data['label'] == 1]\n",
        "negative = data[data['label'] == 0]\n",
        "\n",
        "# plot the data\n",
        "plt.scatter(positive['x1'], positive['x2'], c='k', marker='+', label='Positive')\n",
        "plt.scatter(negative['x1'], negative['x2'], c='y', label='Negative')\n",
        "plt.xlabel('x1')\n",
        "plt.ylabel('x2')\n",
        "plt.legend(loc='upper right')\n",
        "plt.show()"
      ]
    },
    {
      "cell_type": "markdown",
      "metadata": {
        "id": "xuKwQyflbobf"
      },
      "source": [
        "### 1.3 - Sigmoid function ##\n",
        "\n",
        "\n",
        "Implement sigmoid function so it can be called by the rest of your program. **(15 Points)**\n",
        "\n",
        "**Tasks:**\n",
        "1. Implement the sigmoid function (**def sigmoid(z):**).\n",
        "2. Test the sigmoid function by function **plotting** with test data (X, Y) where Y = sigmoid(X).\n",
        "\n",
        "**Hints:**  \n",
        "1. Given the class material, sigmoid function is defined as:\n",
        "$g(z) = \\frac{1}{1+e^{-z}}$.\n",
        "2. You may consider X = np.linspace(-5, 5, 1000) to plot the curve.\n",
        "3. Plot Y against X.\n",
        "4. An example of plot for validation is shown below:\n",
        "\n",
        "![](https://drive.google.com/uc?export=view&id=18j5oHdw78uVm2WwHsdIb4hwhpXDxR37S)"
      ]
    },
    {
      "cell_type": "code",
      "execution_count": 33,
      "metadata": {
        "id": "pLoeDtjrbobf"
      },
      "outputs": [],
      "source": [
        "# Implement sigmoid fuction here\n",
        "def sigmoid(z):\n",
        "    return 1 / (1 + np.exp(-z))\n"
      ]
    },
    {
      "cell_type": "code",
      "execution_count": 34,
      "metadata": {
        "id": "n1LVSh-Ibobf",
        "colab": {
          "base_uri": "https://localhost:8080/",
          "height": 449
        },
        "outputId": "59d9b6f0-275c-4859-fa11-795497066353"
      },
      "outputs": [
        {
          "output_type": "display_data",
          "data": {
            "text/plain": [
              "<Figure size 640x480 with 1 Axes>"
            ],
            "image/png": "[encoded data removed]"
          },
          "metadata": {}
        }
      ],
      "source": [
        "# Plot data here\n",
        "x_vals = np.linspace(-5, 5, 1000)\n",
        "sigmoid_y = sigmoid(x_vals)\n",
        "plt.plot(x_vals, sigmoid_y)\n",
        "plt.xlabel('x')\n",
        "plt.ylabel('g(x)')\n",
        "plt.show()"
      ]
    },
    {
      "cell_type": "markdown",
      "metadata": {
        "id": "NstBKCFsbobg"
      },
      "source": [
        "### 1.4 - Cost function and gradient ##\n",
        "\n",
        "Implement the cross entropy cost function and its gradient for logistic regression. **(20 Points)**\n",
        "\n",
        "**Tasks:**\n",
        "1. Implement the \"cal_cost\" to compute the cost.\n",
        "2. Implement the \"cal_grad\" to compute the gradients.\n",
        "3. Test \"cal_cost\" and \"cal_grad\" with initial values and print out the results.\n",
        "\n",
        "**Hint:**\n",
        "1. The cross entropy cost function (J(θ)) in logistic regression is shown below. It involves two terms, including ylog(h) and (1-y)log(1-h) where h is the function of x.\n",
        "\n",
        "![](https://drive.google.com/uc?export=view&id=1xLhlPFI4wekwuA7lFm7ebRVt0XBZk3e7)\n",
        "\n",
        "2. The gradient of the cost J(θ) is a vector of the same length as θ where the $j$th element (for $j = 0, 1, . . . , n)$ is defined below. You may do a hand calculation to justify the first order derivative with the term above.\n",
        "\n",
        "![](https://drive.google.com/uc?export=view&id=1xfA0A0xyRv2L5JZIdedAmEZxZ3DwpOCF)\n",
        "\n",
        "3. When you implement J(θ), please use eps = 1e-15 to prevent possible \"divide by 0 exception\" in second term. You may think about the reason.\n",
        "4. You may consider the below templates for two functions:\n",
        "\n",
        "    def cal_cost(theta, X, y):\n",
        "\n",
        "        htheta = ...\n",
        "        term1 = ...  /* matrix_multiplication(log(htheta), y)\n",
        "        term2 = ...  /* matrix_multiplication(log(1-htheta+eps), (1-y))\n",
        "        J = - 1 / m * (term1 + term2)\n",
        "        \n",
        "        return cost\n",
        "        \n",
        "    \n",
        "    def cal_grad(theta, X, y):\n",
        "        \n",
        "        htheta = ...\n",
        "        term1 = ... /* matrix_multiplication(transpose(X), (htheta - y))  //you may think about why transpose(x)\n",
        "        grad = 1 / m * term1\n",
        "    \n",
        "        return grad\n",
        "5. It involves matrix multiplication and you may consider the function of np.matmul or np.dot.   \n",
        "        \n",
        "6. Initialize the intercept term (constant term) with **ones** and the theta with **zeros**. Test the functions with these initial values. \\\n",
        "    **Expected outputs:**\\\n",
        "    Cost at initial theta : 0.6931471805599445\\\n",
        "    Gradient at inital theta : [-0.1        -10.91242026 -11.73652937]\n"
      ]
    },
    {
      "cell_type": "code",
      "execution_count": 35,
      "metadata": {
        "id": "FNNV3RWLbobg",
        "colab": {
          "base_uri": "https://localhost:8080/"
        },
        "outputId": "97c7a6d8-1602-4efc-bdd4-219574b8168d"
      },
      "outputs": [
        {
          "output_type": "stream",
          "name": "stdout",
          "text": [
            "Cost at initial theta: 0.6931471805599434\n",
            "Gradient at initial theta: [ -0.1        -10.91242026 -11.73652937]\n"
          ]
        }
      ],
      "source": [
        "# Implement the cost function here\n",
        "\n",
        "# cost function\n",
        "def cal_cost(theta, x, y):\n",
        "    m = len(y)\n",
        "    h_theta = sigmoid(np.dot(x, theta))  # hypothesis function\n",
        "    eps = 1e-15  # to avoid log(0)\n",
        "\n",
        "    # cost function terms\n",
        "    term1 = np.dot(y.T, np.log(h_theta + eps))\n",
        "    term2 = np.dot((1 - y).T, np.log(1 - h_theta + eps))\n",
        "\n",
        "    # compute cost\n",
        "    cost = -1 / m * (term1 + term2)\n",
        "\n",
        "    return cost\n",
        "\n",
        "# grad function\n",
        "def cal_grad(theta, x, y):\n",
        "    m = len(y)\n",
        "    h_theta = sigmoid(np.dot(x, theta))  # hypothesis function\n",
        "\n",
        "    # gradient\n",
        "    grad = 1 / m * np.dot(x.T, (h_theta - y))  # calculation\n",
        "\n",
        "    return grad\n",
        "\n",
        "# preprocess input data and add intercept term\n",
        "x = np.column_stack((np.ones(x1.shape), x1, x2))  # add intercept term\n",
        "theta = np.zeros(x.shape[1])  # initialize theta with zeros\n",
        "\n",
        "# test the cost and gradient functions\n",
        "initial_cost = cal_cost(theta, x, y)\n",
        "initial_grad = cal_grad(theta, x, y)\n",
        "\n",
        "print(\"Cost at initial theta:\", initial_cost)\n",
        "print(\"Gradient at initial theta:\", initial_grad)\n"
      ]
    },
    {
      "cell_type": "markdown",
      "metadata": {
        "id": "X8HudXKrbobh"
      },
      "source": [
        "## 1.5 Train parameters with Gradient Descent ##\n",
        "\n",
        "\n",
        "Train parameters using Gradient Descent. **(10 Points)**\n",
        "\n",
        "**Tasks:**\n",
        "1. Calculate best fit theta by Gradient Descent with learning rate of **0.001 (1e-3)** and epoch of **80K**. The initial theta from above blocks is used as initial values.\n",
        "2. Print out the best theta (the last one is considered as the best here) and its corresponding cost.\n",
        "3. **Plot the decision boundary**.\n",
        "\n",
        "**Hints:**\n",
        "1. You may take gradient descent in homework 1 as an template.\n",
        "2. Derive the boundary line from **sigmoid(theta[0]+ X1 * theta[1] + X2* theta[2])=0.5**. Think about why we get the line by setting **the activated probability to 0.5**. Also, try to calculate the final relationship between X1 and X2. When sigmoid(X) = 0.5, what is the value of x? Check the generated plot in 1.3.\n",
        "3. The validation of first 5 epochs (updated theta and cost): \\\n",
        "------Epoch 0------\\\n",
        "Theta: [0.0001     0.01091242 0.01173653]\\\n",
        "Cost: 0.6996118077359638\\\n",
        "------Epoch 1------\\\n",
        "Theta: [-0.0001129   0.00053949  0.00229352]\\\n",
        "Cost: 0.6649331468590681\\\n",
        "------Epoch 2------\\\n",
        "Theta: [-5.93604956e-05  8.33145873e-03  1.07754324e-02]\\\n",
        "Cost: 0.6679914364992459\\\n",
        "------Epoch 3------\\\n",
        "Theta: [-0.0002356   0.0004607   0.00370829]\\\n",
        "Cost: 0.6545873034874964\\\n",
        "------Epoch 4------\\\n",
        "Theta: [-0.00020363  0.00683227  0.01065138]\\\n",
        "Cost: 0.6563302142684528\n",
        "4. You may take the plots below as an exmample:\n",
        "\n",
        "![](https://drive.google.com/uc?export=view&id=1xLg9LrIF888gGXj3zRAG9iJLsyAmgPQg)\n",
        "\n",
        "5. It may take ~1 min to finish running."
      ]
    },
    {
      "cell_type": "code",
      "execution_count": 44,
      "metadata": {
        "id": "T9a3Z6qDbobh",
        "colab": {
          "base_uri": "https://localhost:8080/"
        },
        "outputId": "a0c20cd8-0d8e-42c9-b4c7-38ffceb65697"
      },
      "outputs": [
        {
          "output_type": "stream",
          "name": "stdout",
          "text": [
            "------Epoch 0------\n",
            "Theta: [0.0001     0.01091242 0.01173653]\n",
            "Cost: 0.699611807735963\n",
            "------Epoch 1------\n",
            "Theta: [-0.0001129   0.00053949  0.00229352]\n",
            "Cost: 0.664933146859067\n",
            "------Epoch 2------\n",
            "Theta: [-5.93604956e-05  8.33145873e-03  1.07754324e-02]\n",
            "Cost: 0.6679914364992453\n",
            "------Epoch 3------\n",
            "Theta: [-0.0002356   0.0004607   0.00370829]\n",
            "Cost: 0.6545873034874954\n",
            "------Epoch 4------\n",
            "Theta: [-0.00020363  0.00683227  0.01065138]\n",
            "Cost: 0.656330214268452\n",
            "Best theta: [-3.88329777  0.02947987  0.03935448]\n",
            "Final cost: 0.43838894881827734\n"
          ]
        }
      ],
      "source": [
        "# Gradient Descent Implementation Here\n",
        "\n",
        "def gradient_descent(x, y, theta, learning_rate, epochs):\n",
        "    m = len(y)\n",
        "    cost_history = []\n",
        "\n",
        "    for epoch in range(epochs):\n",
        "        grad = cal_grad(theta, x, y)  # Compute gradients\n",
        "        theta = theta - learning_rate * grad  # Update theta\n",
        "\n",
        "        # Save the cost for monitoring\n",
        "        cost = cal_cost(theta, x, y)\n",
        "        cost_history.append(cost)\n",
        "\n",
        "        if epoch < 5:  # Print the first few epochs for validation\n",
        "            print(f\"------Epoch {epoch}------\")\n",
        "            print(f\"Theta: {theta}\")\n",
        "            print(f\"Cost: {cost}\")\n",
        "\n",
        "    return theta, cost_history\n",
        "\n",
        "# Parameters for gradient descent\n",
        "learning_rate = 0.001  # Learning rate for gradient descent\n",
        "epochs = 80000  # Number of iterations\n",
        "\n",
        "# Train the model using gradient descent\n",
        "best_theta, cost_history = gradient_descent(x, y, theta, learning_rate, epochs)\n",
        "\n",
        "# Print the final values of theta and cost\n",
        "print(\"Best theta:\", best_theta)\n",
        "print(\"Final cost:\", cost_history[-1])"
      ]
    },
    {
      "cell_type": "code",
      "execution_count": 45,
      "metadata": {
        "id": "NFyMfpNbbobh",
        "colab": {
          "base_uri": "https://localhost:8080/",
          "height": 472
        },
        "outputId": "e6f7bc9d-1e20-4cc4-f5da-8d1f685c31d0"
      },
      "outputs": [
        {
          "output_type": "display_data",
          "data": {
            "text/plain": [
              "<Figure size 640x480 with 1 Axes>"
            ],
            "image/png": "[encoded data removed]"
          },
          "metadata": {}
        }
      ],
      "source": [
        "# Draw Decision Boundary Here\n",
        "\n",
        "plot_x = np.array([min(x1), max(x1)])\n",
        "plot_y = -(best_theta[0] + best_theta[1] * plot_x) / best_theta[2]\n",
        "\n",
        "plt.scatter(positive['x1'], positive['x2'], c='k', marker='+', label='Positive')\n",
        "plt.scatter(negative['x1'], negative['x2'], c='y', label='Negative')\n",
        "plt.plot(plot_x, plot_y, color='blue')\n",
        "plt.xlabel('x1')\n",
        "plt.ylabel('x2')\n",
        "plt.legend(loc='lower left')\n",
        "plt.title('Decision Boundary')\n",
        "plt.show()"
      ]
    },
    {
      "cell_type": "markdown",
      "metadata": {
        "id": "8fllDopObobh"
      },
      "source": [
        "\n",
        "### 1.6 Evaluating Logistic Regression\n",
        "\n",
        "Evaluate the model with given data. **(10 Points)**\n",
        "\n",
        "**Tasks:**\n",
        "1. Calculate the training accuracy and **PRINT IT OUT**.\n",
        "2. Evaluate the predicted probability of the learnt model with x1 = 56 and x2 = 32 and **PRINT IT OUT**.\n",
        "\n",
        "\n",
        "**Hints:**  \n",
        "1. Positive(prediction>0.5) and negative(prediction<=0.5).\n",
        "2. The prediction results are based on acceptance probability. Given the two exam scores, we expected the model yields either high probability of \"fail\" or low probability of \"pass\".\n",
        "3. Training accuracy should be around **85%**."
      ]
    },
    {
      "cell_type": "code",
      "execution_count": 46,
      "metadata": {
        "id": "IrQzTn07bobh",
        "colab": {
          "base_uri": "https://localhost:8080/"
        },
        "outputId": "18ea8ad0-79e5-4b0f-c066-4d61e8046271"
      },
      "outputs": [
        {
          "output_type": "stream",
          "name": "stdout",
          "text": [
            "Training accuracy: 0.85\n"
          ]
        }
      ],
      "source": [
        "# Evaluate the model\n",
        "\n",
        "# predict\n",
        "def predict(x, theta):\n",
        "  probabilities = sigmoid(np.dot(x, theta))\n",
        "  return probabilities >= 0.5\n",
        "\n",
        "# make predicitons and calc accuracy\n",
        "predictions = predict(x, best_theta)\n",
        "accuracy = np.mean(predictions == y)\n",
        "\n",
        "print(\"Training accuracy:\", accuracy)"
      ]
    }
  ],
  "metadata": {
    "coursera": {
      "course_slug": "neural-networks-deep-learning",
      "graded_item_id": "XaIWT",
      "launcher_item_id": "zAgPl"
    },
    "kernelspec": {
      "display_name": "Python 3",
      "language": "python",
      "name": "python3"
    },
    "language_info": {
      "codemirror_mode": {
        "name": "ipython",
        "version": 3
      },
      "file_extension": ".py",
      "mimetype": "text/x-python",
      "name": "python",
      "nbconvert_exporter": "python",
      "pygments_lexer": "ipython3",
      "version": "3.8.5"
    },
    "colab": {
      "provenance": []
    }
  },
  "nbformat": 4,
  "nbformat_minor": 0
}